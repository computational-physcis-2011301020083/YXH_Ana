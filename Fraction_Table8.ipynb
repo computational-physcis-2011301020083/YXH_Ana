{
 "cells": [
  {
   "cell_type": "code",
   "execution_count": 10,
   "metadata": {},
   "outputs": [],
   "source": [
    "import ROOT,os,glob,math"
   ]
  },
  {
   "cell_type": "code",
   "execution_count": 3,
   "metadata": {},
   "outputs": [
    {
     "name": "stdout",
     "output_type": "stream",
     "text": [
      "['./Ntuples/mc16d_22jun20/jetjet_JZ11WithSW.root', './Ntuples/mc16d_22jun20/jetjet_JZ4WithSW.root', './Ntuples/mc16d_22jun20/jetjet_JZ3WithSW.root', './Ntuples/mc16d_22jun20/jetjet_JZ2WithSW.root', './Ntuples/mc16d_22jun20/jetjet_JZ10WithSW.root', './Ntuples/mc16d_22jun20/jetjet_JZ7WithSW.root', './Ntuples/mc16d_22jun20/jetjet_JZ12WithSW.root', './Ntuples/mc16d_22jun20/jetjet_JZ6WithSW.root', './Ntuples/mc16d_22jun20/jetjet_JZ5WithSW.root', './Ntuples/mc16d_22jun20/jetjet_JZ9WithSW.root', './Ntuples/mc16d_22jun20/jetjet_JZ8WithSW.root']\n",
      "['./Ntuples/mc16d_22jun20/Sherpa_CT10_Wqq_Pt1000.root', './Ntuples/mc16d_22jun20/Sherpa_CT10_Wqq_Pt280_500.root', './Ntuples/mc16d_22jun20/Sherpa_CT10_Zqq_Pt1000.root', './Ntuples/mc16d_22jun20/Sherpa_CT10_Wqq_Pt500_1000.root', './Ntuples/mc16d_22jun20/Sherpa_CT10_Zqq_Pt280_500.root', './Ntuples/mc16d_22jun20/Sherpa_CT10_Zqq_Pt500_1000.root']\n"
     ]
    }
   ],
   "source": [
    "Path=\"./Ntuples/mc16d_22jun20/\"\n",
    "QCDpaths=glob.glob(Path+\"*JZ*root\")\n",
    "VJETSpaths=glob.glob(Path+\"*CT10*root\")\n",
    "print(QCDpaths)\n",
    "print(VJETSpaths)"
   ]
  },
  {
   "cell_type": "code",
   "execution_count": 4,
   "metadata": {},
   "outputs": [
    {
     "name": "stdout",
     "output_type": "stream",
     "text": [
      "./Ntuples/mc16d_22jun20/Sherpa_CT10_Wqq_Pt1000.root 56703\n",
      "./Ntuples/mc16d_22jun20/Sherpa_CT10_Wqq_Pt280_500.root 36185\n",
      "./Ntuples/mc16d_22jun20/Sherpa_CT10_Wqq_Pt500_1000.root 75109\n",
      "./Ntuples/mc16d_22jun20/Sherpa_CT10_Zqq_Pt1000.root 56859\n",
      "./Ntuples/mc16d_22jun20/Sherpa_CT10_Zqq_Pt280_500.root 18451\n",
      "./Ntuples/mc16d_22jun20/Sherpa_CT10_Zqq_Pt500_1000.root 74885\n",
      "6019.951831459125 1631.2573513437778 2154.6041027793435\n"
     ]
    }
   ],
   "source": [
    "#hpt=ROOT.TH1F(\"hpt\",\"hpt\",200,0,10000)\n",
    "#h=ROOT.TH1F(\"h\",\"h\",200,0,5000)\n",
    "#print(hpt,h)\n",
    "SRcount=0\n",
    "HSBcount=0\n",
    "LSBcount=0\n",
    "#for path in sorted(QCDpaths):\n",
    "for path in sorted(VJETSpaths):\n",
    "    fpath=ROOT.TFile(path,\"r\")\n",
    "    tpath=fpath.Get(\"Nominal\")\n",
    "    N=tpath.GetEntries()\n",
    "    print(path,N)\n",
    "    for i in range(N):\n",
    "        tpath.GetEntry(i)\n",
    "        if tpath.nTag>0 and tpath.passYXHPreSel==1:\n",
    "        #if tpath.trackjet1_pt>450*10e6 and tpath.trackjet2_pt>250*10e6:\n",
    "            if tpath.mH>75 and tpath.mH<145:\n",
    "                SRcount=SRcount+tpath.weight\n",
    "            elif tpath.mH>=145:\n",
    "                HSBcount=HSBcount+tpath.weight\n",
    "            else :\n",
    "                LSBcount=LSBcount+tpath.weight\n",
    "print(SRcount,HSBcount,LSBcount)"
   ]
  },
  {
   "cell_type": "code",
   "execution_count": 8,
   "metadata": {},
   "outputs": [
    {
     "data": {
      "text/plain": [
       "0.10811990373217428"
      ]
     },
     "execution_count": 8,
     "metadata": {},
     "output_type": "execute_result"
    }
   ],
   "source": [
    "6019.9/(397.7*140)"
   ]
  },
  {
   "cell_type": "code",
   "execution_count": 9,
   "metadata": {},
   "outputs": [
    {
     "data": {
      "text/plain": [
       "0.02966101694915254"
      ]
     },
     "execution_count": 9,
     "metadata": {},
     "output_type": "execute_result"
    }
   ],
   "source": [
    "2.8/94.4"
   ]
  },
  {
   "cell_type": "code",
   "execution_count": null,
   "metadata": {},
   "outputs": [],
   "source": []
  }
 ],
 "metadata": {
  "kernelspec": {
   "display_name": "PyROOT - Python3",
   "language": "python",
   "name": "pyroot3"
  },
  "language_info": {
   "codemirror_mode": {
    "name": "ipython",
    "version": 3
   },
   "file_extension": ".py",
   "mimetype": "text/x-python",
   "name": "python",
   "nbconvert_exporter": "python",
   "pygments_lexer": "ipython3",
   "version": "3.6.8"
  }
 },
 "nbformat": 4,
 "nbformat_minor": 4
}
