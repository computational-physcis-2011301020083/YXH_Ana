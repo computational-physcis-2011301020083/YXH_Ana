{
 "cells": [
  {
   "cell_type": "code",
   "execution_count": 4,
   "metadata": {},
   "outputs": [
    {
     "name": "stdout",
     "output_type": "stream",
     "text": [
      "['./Ntuples/mc16d_22jun20/XH_qqqq_m1000_m200.root', './Ntuples/mc16d_22jun20/XH_qqqq_m1000_m65.root']\n"
     ]
    }
   ],
   "source": [
    "import ROOT,os,glob,math\n",
    "Path=\"./Ntuples/mc16d_22jun20/\"\n",
    "QCDpaths=glob.glob(Path+\"*JZ*root\")\n",
    "VJETSpaths=glob.glob(Path+\"*CT10*root\")\n",
    "Signalpaths=glob.glob(Path+\"*m1000*root\")\n",
    "#print(QCDpaths)\n",
    "#print(VJETSpaths)\n",
    "#print(Signalpaths)\n",
    "for path in Signalpaths:\n",
    "    if os.path.getsize(path)<1000:\n",
    "        Signalpaths.remove(path)\n",
    "print(Signalpaths)"
   ]
  },
  {
   "cell_type": "code",
   "execution_count": 12,
   "metadata": {},
   "outputs": [
    {
     "name": "stdout",
     "output_type": "stream",
     "text": [
      "('./Ntuples/mc16d_22jun20/XH_qqqq_m1000_m200.root', 11913L)\n",
      "('./Ntuples/mc16d_22jun20/XH_qqqq_m1000_m65.root', 14306L)\n",
      "0.457116934411\n"
     ]
    }
   ],
   "source": [
    "N_total=0.0\n",
    "N_Xbb=0\n",
    "ftop=0.25 #0.5 1 0\n",
    "for path in sorted(Signalpaths):\n",
    "    fpath=ROOT.TFile(path,\"r\")\n",
    "    tpath=fpath.Get(\"Nominal\")\n",
    "    N=tpath.GetEntries()\n",
    "    print(path,N)\n",
    "    for i in range(N):\n",
    "        tpath.GetEntry(i)\n",
    "        N_total=N_total+tpath.weight\n",
    "        Dxbb=math.log(tpath.HCand_XbbScoreHiggs/((1-ftop)*tpath.HCand_XbbScoreQCD+ftop*tpath.HCand_XbbScoreTop))\n",
    "        if Dxbb>=2.55: #2,11 1.61 3.63\n",
    "            N_Xbb=N_Xbb+tpath.weight\n",
    "        #print(Dxbb)\n",
    "print(N_Xbb/N_total)"
   ]
  },
  {
   "cell_type": "code",
   "execution_count": 9,
   "metadata": {},
   "outputs": [
    {
     "data": {
      "text/plain": [
       "0.9555114450274363"
      ]
     },
     "execution_count": 9,
     "metadata": {},
     "output_type": "execute_result"
    }
   ],
   "source": [
    "math.log(2.6)"
   ]
  },
  {
   "cell_type": "code",
   "execution_count": null,
   "metadata": {},
   "outputs": [],
   "source": []
  }
 ],
 "metadata": {
  "kernelspec": {
   "display_name": "PyROOT",
   "language": "python",
   "name": "pyroot"
  },
  "language_info": {
   "codemirror_mode": {
    "name": "ipython",
    "version": 2
   },
   "file_extension": ".py",
   "mimetype": "text/x-python",
   "name": "python",
   "nbconvert_exporter": "python",
   "pygments_lexer": "ipython2",
   "version": "2.7.12"
  }
 },
 "nbformat": 4,
 "nbformat_minor": 4
}
