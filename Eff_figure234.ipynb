{
 "cells": [
  {
   "cell_type": "code",
   "execution_count": 1,
   "metadata": {},
   "outputs": [
    {
     "name": "stdout",
     "output_type": "stream",
     "text": [
      "Welcome to JupyROOT 6.18/00\n"
     ]
    }
   ],
   "source": [
    "import ROOT,os,glob,math\n",
    "Path=\"./Ntuples/mc16d_22jun20/\"\n",
    "QCDpaths=glob.glob(Path+\"*JZ*root\")\n",
    "VJETSpaths=glob.glob(Path+\"*CT10*root\")\n",
    "Signalpaths=glob.glob(Path+\"*qqqq*root\")\n",
    "#print(QCDpaths)\n",
    "#print(VJETSpaths)\n",
    "#print(Signalpaths)\n",
    "for path in Signalpaths:\n",
    "    #print(os.path.getsize(path))\n",
    "    #print(os.stat(path).st_size)\n",
    "    #if os.path.getsize(path)<100000.0:\n",
    "    if os.stat(path).st_size<10000.0:\n",
    "        Signalpaths.remove(path)\n",
    "#Signalpaths.remove(\"./Ntuples/mc16d_22jun20/XH_qqqq_m1000_m130.root\")\n",
    "Signalpaths.remove(\"./Ntuples/mc16d_22jun20/XH_qqqq_m3000_m130.root\")\n",
    "#Signalpaths.remove(\"./Ntuples/mc16d_22jun20/XH_qqqq_m3400_m65.root\")\n",
    "#print(sorted(Signalpaths))"
   ]
  },
  {
   "cell_type": "code",
   "execution_count": 2,
   "metadata": {},
   "outputs": [
    {
     "name": "stdout",
     "output_type": "stream",
     "text": [
      "Name:  Title:  NbinsX: 100\n"
     ]
    },
    {
     "name": "stderr",
     "output_type": "stream",
     "text": [
      "Info in <TCanvas::Print>: pdf file figures/LeadJetPtcut.pdf has been created\n",
      "Info in <TCanvas::Print>: jpg file figures/LeadJetPtcut.jpg has been created\n"
     ]
    },
    {
     "data": {
      "image/png": "[encoded data removed]",
      "text/plain": [
       "<IPython.core.display.Image object>"
      ]
     },
     "metadata": {},
     "output_type": "display_data"
    }
   ],
   "source": [
    "h=ROOT.TH2F(\"\",\"\",100,0,1000,90,0,4.5)\n",
    "print(h)\n",
    "for path in sorted(Signalpaths):\n",
    "    N_total=0.0\n",
    "    N_Jet1pt=0.0\n",
    "    fpath=ROOT.TFile(path,\"r\")\n",
    "    tpath=fpath.Get(\"Nominal\")\n",
    "    N=tpath.GetEntries()\n",
    "    signal=path.split(\"/\")[-1].split(\".\")[0].split(\"_\")\n",
    "    mY=int(signal[2][1:])\n",
    "    mX=int(signal[3][1:])\n",
    "    binY=int(mY/50+1)\n",
    "    binX=int(mX/10+1)\n",
    "    #print(path,N,mY,mX,binY,binX)\n",
    "    for i in range(N):\n",
    "        tpath.GetEntry(i)\n",
    "        N_total=N_total+tpath.weight\n",
    "        if tpath.Jet1_pT>=450:\n",
    "        #if tpath.HCand_isHWindow==1:\n",
    "        #if tpath.HCand_nBTags>0:\n",
    "        #if tpath.Jet1_pT>=450 and tpath.Jet2_pT>=250 and tpath.HCand_isHWindow==1 and tpath.HCand_nBTags>0:\n",
    "            N_Jet1pt=N_Jet1pt+tpath.weight\n",
    "    fraction=N_Jet1pt/N_total\n",
    "    #print(binX,binY,fraction)\n",
    "    h.SetBinContent(binX,binY,fraction)\n",
    "c1=ROOT.TCanvas(\"c1\",\"c1\",100,0,900,700)\n",
    "c1.SetRightMargin(0.15)\n",
    "ROOT.gStyle.SetOptStat(0)\n",
    "ROOT.gStyle.SetPalette(1)\n",
    "h.GetXaxis().SetTitle(\"m(X)[GeV]\")\n",
    "h.GetYaxis().SetTitle(\"m(Y)[TeV]\")\n",
    "h.GetZaxis().SetRangeUser(0.,1.0);\n",
    "h.GetZaxis().SetTitle(\"Efficiency of leading jet p_{T} cut\")\n",
    "#h.GetZaxis().SetTitle(\"Efficiency of m_{H} window cut\")\n",
    "#h.GetZaxis().SetTitle(\"Efficiency of H b-tag>0 cut\")\n",
    "#h.GetZaxis().SetTitle(\"SR Efficiency\")\n",
    "h.Draw(\"COLZ\")\n",
    "c1.Draw()\n",
    "fname=\"figures/LeadJetPtcut\"\n",
    "#fname=\"figures/mHwindowcut\"\n",
    "#fname=\"figures/Hbtagcut\"\n",
    "#fname=\"figures/SR\"\n",
    "c1.SaveAs(fname+\".pdf\")\n",
    "c1.SaveAs(fname+\".jpg\")"
   ]
  },
  {
   "cell_type": "code",
   "execution_count": null,
   "metadata": {},
   "outputs": [],
   "source": []
  },
  {
   "cell_type": "code",
   "execution_count": null,
   "metadata": {},
   "outputs": [],
   "source": []
  }
 ],
 "metadata": {
  "kernelspec": {
   "display_name": "PyROOT - Python3",
   "language": "python",
   "name": "pyroot3"
  },
  "language_info": {
   "codemirror_mode": {
    "name": "ipython",
    "version": 3
   },
   "file_extension": ".py",
   "mimetype": "text/x-python",
   "name": "python",
   "nbconvert_exporter": "python",
   "pygments_lexer": "ipython3",
   "version": "3.6.8"
  }
 },
 "nbformat": 4,
 "nbformat_minor": 4
}
