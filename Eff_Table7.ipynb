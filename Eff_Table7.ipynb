{
 "cells": [
  {
   "cell_type": "code",
   "execution_count": 3,
   "metadata": {},
   "outputs": [
    {
     "name": "stdout",
     "output_type": "stream",
     "text": [
      "['./Ntuples/mc16d_22jun20/XH_qqqq_m1000_m200.root', './Ntuples/mc16d_22jun20/XH_qqqq_m1000_m65.root']\n"
     ]
    }
   ],
   "source": [
    "import ROOT,os,glob,math\n",
    "Path=\"./Ntuples/mc16d_22jun20/\"\n",
    "QCDpaths=glob.glob(Path+\"*JZ*root\")\n",
    "VJETSpaths=glob.glob(Path+\"*CT10*root\")\n",
    "Signalpaths=glob.glob(Path+\"*m1000*root\")\n",
    "#print(QCDpaths)\n",
    "#print(VJETSpaths)\n",
    "#print(Signalpaths)\n",
    "for path in Signalpaths:\n",
    "    if os.path.getsize(path)<1000:\n",
    "        Signalpaths.remove(path)\n",
    "print(Signalpaths)"
   ]
  },
  {
   "cell_type": "code",
   "execution_count": 7,
   "metadata": {},
   "outputs": [
    {
     "name": "stdout",
     "output_type": "stream",
     "text": [
      "./Ntuples/mc16d_22jun20/XH_qqqq_m1000_m200.root 11913\n",
      "./Ntuples/mc16d_22jun20/XH_qqqq_m1000_m65.root 14306\n",
      "1.0 0.8301780679096792 0.3534816876329466 0.4145700982702912 0.7680517859032403\n"
     ]
    }
   ],
   "source": [
    "N_total=0.0\n",
    "N_2Jets=0.0\n",
    "N_1btag=0\n",
    "N_2btag=0\n",
    "N_0btag=0\n",
    "N_mWindow=0\n",
    "for path in sorted(Signalpaths):\n",
    "    fpath=ROOT.TFile(path,\"r\")\n",
    "    tpath=fpath.Get(\"Nominal\")\n",
    "    N=tpath.GetEntries()\n",
    "    print(path,N)\n",
    "    for i in range(N):\n",
    "        tpath.GetEntry(i)\n",
    "        N_total=N_total+tpath.weight\n",
    "        if tpath.nLargeRJets>=1:\n",
    "            N_2Jets=N_2Jets+tpath.weight\n",
    "        if tpath.nTag==1:\n",
    "            N_1btag=N_1btag+tpath.weight\n",
    "        if tpath.nTag==2:\n",
    "            N_2btag=N_2btag+tpath.weight\n",
    "        if tpath.nTag>0:\n",
    "            N_0btag=N_0btag+tpath.weight\n",
    "        #if tpath.mH<145 and tpath.mH>75:\n",
    "        if tpath.HCand_isHWindow==1:\n",
    "            N_mWindow=N_mWindow+tpath.weight\n",
    "print(N_2Jets/N_total,N_mWindow/N_total,N_1btag/N_total,N_2btag/N_total,N_0btag/N_total) "
   ]
  },
  {
   "cell_type": "code",
   "execution_count": null,
   "metadata": {},
   "outputs": [],
   "source": []
  }
 ],
 "metadata": {
  "kernelspec": {
   "display_name": "PyROOT - Python3",
   "language": "python",
   "name": "pyroot3"
  },
  "language_info": {
   "codemirror_mode": {
    "name": "ipython",
    "version": 3
   },
   "file_extension": ".py",
   "mimetype": "text/x-python",
   "name": "python",
   "nbconvert_exporter": "python",
   "pygments_lexer": "ipython3",
   "version": "3.6.8"
  }
 },
 "nbformat": 4,
 "nbformat_minor": 4
}
