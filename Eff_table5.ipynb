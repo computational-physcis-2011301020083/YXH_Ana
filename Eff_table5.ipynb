{
 "cells": [
  {
   "cell_type": "code",
   "execution_count": 1,
   "metadata": {},
   "outputs": [
    {
     "name": "stdout",
     "output_type": "stream",
     "text": [
      "Welcome to JupyROOT 6.18/00\n",
      "['./Ntuples/mc16d_22jun20/XH_qqqq_m1000_m200.root', './Ntuples/mc16d_22jun20/XH_qqqq_m1000_m65.root']\n"
     ]
    }
   ],
   "source": [
    "import ROOT,os,glob,math\n",
    "Path=\"./Ntuples/mc16d_22jun20/\"\n",
    "QCDpaths=glob.glob(Path+\"*JZ*root\")\n",
    "VJETSpaths=glob.glob(Path+\"*CT10*root\")\n",
    "Signalpaths=glob.glob(Path+\"*m1000*root\")\n",
    "#print(QCDpaths)\n",
    "#print(VJETSpaths)\n",
    "#print(Signalpaths)\n",
    "for path in Signalpaths:\n",
    "    #print(os.path.getsize(path))\n",
    "    #print(os.stat(path).st_size)\n",
    "    #if os.path.getsize(path)<100000.0:\n",
    "    if os.stat(path).st_size<10000.0:\n",
    "        Signalpaths.remove(path)\n",
    "#Signalpaths.remove(\"./Ntuples/mc16d_22jun20/XH_qqqq_m1000_m130.root\")\n",
    "#Signalpaths.remove(\"./Ntuples/mc16d_22jun20/XH_qqqq_m3000_m130.root\")\n",
    "#Signalpaths.remove(\"./Ntuples/mc16d_22jun20/XH_qqqq_m3400_m65.root\")\n",
    "print(sorted(Signalpaths))"
   ]
  },
  {
   "cell_type": "code",
   "execution_count": 4,
   "metadata": {},
   "outputs": [
    {
     "name": "stdout",
     "output_type": "stream",
     "text": [
      "./Ntuples/mc16d_22jun20/XH_qqqq_m1000_m200.root\n",
      "('./Ntuples/mc16d_22jun20/XH_qqqq_m1000_m200.root', 11913L)\n",
      "./Ntuples/mc16d_22jun20/XH_qqqq_m1000_m65.root\n",
      "('./Ntuples/mc16d_22jun20/XH_qqqq_m1000_m65.root', 14306L)\n",
      "0.97387774066\n"
     ]
    }
   ],
   "source": [
    "N_total=0.0\n",
    "N_Hgen=0\n",
    "N_Xgen=0\n",
    "N_unm=0\n",
    "for path in sorted(Signalpaths):\n",
    "    print(path)\n",
    "    fpath=ROOT.TFile(path,\"r\")\n",
    "    tpath=fpath.Get(\"Nominal\")\n",
    "    N=tpath.GetEntries()\n",
    "    print(path,N)\n",
    "    for i in range(N):\n",
    "        tpath.GetEntry(i)\n",
    "        N_total=N_total+tpath.weight\n",
    "        if tpath.HdRjj<1 and tpath.HdRjj>=0:\n",
    "            N_Hgen=N_Hgen+tpath.weight\n",
    "        elif tpath.HdRjj<0:\n",
    "            N_unm=N_unm+tpath.weight\n",
    "        else:\n",
    "            N_Xgen=N_Xgen+tpath.weight\n",
    "fraction=N_Hgen/N_total\n",
    "print(N_Hgen/N_total,N_Xgen/N_total,N_unm/N_total)"
   ]
  },
  {
   "cell_type": "code",
   "execution_count": null,
   "metadata": {},
   "outputs": [],
   "source": []
  }
 ],
 "metadata": {
  "kernelspec": {
   "display_name": "PyROOT",
   "language": "python",
   "name": "pyroot"
  },
  "language_info": {
   "codemirror_mode": {
    "name": "ipython",
    "version": 2
   },
   "file_extension": ".py",
   "mimetype": "text/x-python",
   "name": "python",
   "nbconvert_exporter": "python",
   "pygments_lexer": "ipython2",
   "version": "2.7.12"
  }
 },
 "nbformat": 4,
 "nbformat_minor": 4
}
